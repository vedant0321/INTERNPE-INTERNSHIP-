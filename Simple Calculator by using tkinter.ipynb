{
 "cells": [
  {
   "cell_type": "markdown",
   "id": "6dbb6852",
   "metadata": {},
   "source": [
    " <font size=\"20\"> Simple Calculator </font> "
   ]
  },
  {
   "cell_type": "code",
   "execution_count": 17,
   "id": "944f238d",
   "metadata": {},
   "outputs": [],
   "source": [
    "from tkinter import*\n",
    "\n",
    "def fCalc(src, side):\n",
    "    appObj = Frame(src, borderwidth=4, bd=2,bg = \"#aa78fa\")\n",
    "    appObj.pack(side=side, expand=YES, fill=BOTH)\n",
    "    return appObj\n",
    "\n",
    "def button(src, side, text, command=None):\n",
    "    appObj = Button(src, text=text, command=command)\n",
    "    appObj.pack(side=side, expand=YES, fill=BOTH)\n",
    "    return appObj\n",
    "\n",
    "class app(Frame):\n",
    "    def __init__(self, root = Tk(), width=364, height=425):\n",
    "        Frame.__init__(self)\n",
    "        self.option_add(\"*Font\", 'arial 20 bold')\n",
    "        self.pack(expand=YES, fill=BOTH)\n",
    "        self.master.title(\"Simple Calculator\")\n",
    "        screen_width = root.winfo_screenwidth()\n",
    "        screen_height = root.winfo_screenheight()\n",
    "        x = (screen_width/2) - (width/2)\n",
    "        y = (screen_height/2) - (height/2)\n",
    "        root.geometry('%dx%d+%d+%d' % (width, height, x, y))\n",
    "        display = StringVar()\n",
    "        Entry(self, relief= RIDGE,      \n",
    "                    textvariable=display, state=DISABLED, justify='right', bd=20, bg=\"RED\").pack(side=TOP, expand=YES,\n",
    "                            fill=BOTH)\n",
    "        clrChar = \"Clear\"\n",
    "        button(self, TOP, clrChar, lambda appObj=display, i=clrChar: appObj.set(''))\n",
    "\n",
    "\n",
    "        for btnNum in (\"789/\", \"456*\", \"123-\", \"0.+\"):\n",
    "\n",
    "            FunctionNum = fCalc(self, TOP)\n",
    "            for fEquals in btnNum:\n",
    "                button(FunctionNum, LEFT, fEquals,\n",
    "                        lambda appObj=display, i=fEquals: appObj.set(appObj.get() + i))\n",
    "                EqualsButton = fCalc(self, TOP)\n",
    "                \n",
    "        for fEquals in \"=\":\n",
    "            if fEquals == \"=\":\n",
    "                btnEquals = button(EqualsButton, LEFT, fEquals)\n",
    "                btnEquals.bind('<ButtonRelease-1>',\n",
    "                                lambda e, s=self, appObj=display: s.result(appObj), \"+\")\n",
    "            else:\n",
    "                btnEquals = button(EqualsButton, LEFT, fEquals,\n",
    "                        lambda appObj=display, s=\" %s \"%fEquals: appObj.set(appObj.get()+s))\n",
    "\n",
    "    def result(self, display):\n",
    "        try:\n",
    "            display.set(eval(display.get()))\n",
    "        except:\n",
    "            display.set(\"UNDEFINED\")\n",
    "\n",
    "if __name__ == '__main__':\n",
    "    app().mainloop()"
   ]
  },
  {
   "cell_type": "code",
   "execution_count": null,
   "id": "51bd1741",
   "metadata": {},
   "outputs": [],
   "source": []
  },
  {
   "cell_type": "code",
   "execution_count": null,
   "id": "5a6459e7",
   "metadata": {},
   "outputs": [],
   "source": []
  },
  {
   "cell_type": "code",
   "execution_count": null,
   "id": "ab2cb7ed",
   "metadata": {},
   "outputs": [],
   "source": []
  }
 ],
 "metadata": {
  "kernelspec": {
   "display_name": "Python 3 (ipykernel)",
   "language": "python",
   "name": "python3"
  },
  "language_info": {
   "codemirror_mode": {
    "name": "ipython",
    "version": 3
   },
   "file_extension": ".py",
   "mimetype": "text/x-python",
   "name": "python",
   "nbconvert_exporter": "python",
   "pygments_lexer": "ipython3",
   "version": "3.9.13"
  }
 },
 "nbformat": 4,
 "nbformat_minor": 5
}
